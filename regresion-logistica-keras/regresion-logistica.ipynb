{
 "cells": [
  {
   "cell_type": "markdown",
   "id": "83af6f6d",
   "metadata": {},
   "source": [
    "## Predicción de diabetes\n",
    "A través de un conjunto de datos médicos, podemos usar regresión logística \n",
    "para predecir si un paciente tiene diabetes basado en características como edad, índice de masa corporal, presión sanguínea, etc.\n"
   ]
  },
  {
   "cell_type": "code",
   "execution_count": null,
   "id": "0e743051",
   "metadata": {},
   "outputs": [],
   "source": [
    "#importar librerias \n",
    "import pandas as pd\n",
    "import numpy as np\n",
    "import tensorflow as tf\n",
    "from tensorflow import keras\n",
    "from tensorflow.keras import layers\n",
    "from sklearn.model_selection import train_test_split\n",
    "from sklearn.preprocessing import StandardScaler\n",
    "import matplotlib.pyplot as plt\n"
   ]
  },
  {
   "cell_type": "markdown",
   "id": "36a7ed53",
   "metadata": {},
   "source": [
    "Carga del dataset, que contiene datos de pacientes, con métricas médicas y una etiqueta binaria que indica si tienen diabetes.\n"
   ]
  },
  {
   "cell_type": "code",
   "execution_count": null,
   "id": "8f899a90",
   "metadata": {},
   "outputs": [],
   "source": [
    "cols = [\"Pregnancies\", \"Glucose\", \"BloodPressure\", \"SkinThickness\", \n",
    "        \"Insulin\", \"BMI\", \"DiabetesPedigreeFunction\", \"Age\", \"Outcome\"]\n",
    " \n",
    "data = pd.read_csv(\"diabetes.csv\", header=None, names=cols)\n",
    "\n",
    "data.head()\n"
   ]
  },
  {
   "cell_type": "code",
   "execution_count": null,
   "id": "dc3006b0",
   "metadata": {},
   "outputs": [],
   "source": []
  },
  {
   "cell_type": "code",
   "execution_count": null,
   "id": "20efd431",
   "metadata": {},
   "outputs": [],
   "source": [
    "#separar en conjuntos de entrenamiento y prueba \n",
    "\n",
    "X = data.drop(\"Outcome\", axis=1)\n",
    "y = data[\"Outcome\"]\n",
    "\n",
    "scaler = StandardScaler()\n",
    "X_scaled = scaler.fit_transform(X)\n",
    "\n",
    "X_train, X_test, y_train, y_test = train_test_split(X_scaled, y, test_size=0.2, random_state=42)\n"
   ]
  },
  {
   "cell_type": "code",
   "execution_count": null,
   "id": "6680682e",
   "metadata": {},
   "outputs": [],
   "source": [
    "\n",
    "#crear  modelo simple con una sola capa densa y activación sigmoide\n",
    "\n",
    "model = keras.Sequential([\n",
    "    layers.Dense(1, activation='sigmoid', input_shape=(X_train.shape[1],))\n",
    "])\n",
    "\n",
    "model.compile(optimizer='adam',\n",
    "              loss='binary_crossentropy',\n",
    "              metrics=['accuracy'])\n",
    "\n",
    "history = model.fit(X_train, y_train, epochs=100, validation_split=0.1, verbose=0)\n",
    "loss, accuracy = model.evaluate(X_test, y_test)\n",
    "print(f\"Precisión en el conjunto de prueba: {accuracy:.2f}\")\n",
    "\n",
    "#hacer predicciones\n",
    "\n",
    "predictions = model.predict(X_test[:5])\n",
    "predicted_classes = (predictions > 0.5).astype(int)\n",
    "\n",
    "print(\"Predicciones (probabilidades):\", predictions.flatten())\n",
    "print(\"Clases predichas:\", predicted_classes.flatten())\n",
    "print(\"Clases reales:\", y_test[:5].values)\n",
    "\n",
    "## grafico de perdida y precisión\n",
    "\n",
    "plt.plot(history.history['accuracy'], label='Entrenamiento')\n",
    "plt.plot(history.history['val_accuracy'], label='Validación')\n",
    "plt.title('Precisión del modelo')\n",
    "plt.xlabel('Épocas')\n",
    "plt.ylabel('Precisión')\n",
    "plt.legend()\n",
    "plt.grid(True)\n",
    "plt.show()\n",
    "\n",
    "#\n",
    "# sigmoide, función matemática que toma cualquier número real y lo transforma en un valor entre 0 y 1.\n"
   ]
  },
  {
   "cell_type": "markdown",
   "id": "6b4c25ef",
   "metadata": {},
   "source": []
  }
 ],
 "metadata": {
  "language_info": {
   "name": "python"
  }
 },
 "nbformat": 4,
 "nbformat_minor": 5
}
